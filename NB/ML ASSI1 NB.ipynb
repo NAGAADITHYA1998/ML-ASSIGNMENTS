{
 "cells": [
  {
   "cell_type": "code",
   "execution_count": 1,
   "metadata": {},
   "outputs": [],
   "source": [
    "import linecache as lc\n",
    "import numpy as np\n",
    "import math"
   ]
  },
  {
   "cell_type": "code",
   "execution_count": 2,
   "metadata": {},
   "outputs": [],
   "source": [
    "def train(i,dict,arr):\n",
    "    for j in range(1,(i*l//5)+1):\n",
    "        li=lc.getline('a1_d3.txt',j)\n",
    "        arr[int(li[len(li)-2])]+=1\n",
    "        words=li.split()\n",
    "        for m in words:\n",
    "            if (m != '\\n' and m != '0' and m!='1'):\n",
    "                if m.lower() in dict[int(li[len(li)-2])]:\n",
    "                    dict[int(li[len(li)-2])][m.lower()]+=1\n",
    "                else:\n",
    "                    dict[int(li[len(li)-2])][m.lower()]=2\n",
    "    for j in range(((i+1)*l//5)+1,l+1):\n",
    "        li=lc.getline('a1_d3.txt',j)\n",
    "        arr[int(li[len(li)-2])]+=1\n",
    "        words=li.split()\n",
    "        for m in words:\n",
    "            if (m != '\\n' and m != 0 and m!=1):\n",
    "                if m.lower() in dict[int(li[len(li)-2])]:\n",
    "                    dict[int(li[len(li)-2])][m.lower()]+=1\n",
    "                else:\n",
    "                    dict[int(li[len(li)-2])][m.lower()]=2\n",
    "    return dict,arr"
   ]
  },
  {
   "cell_type": "code",
   "execution_count": 3,
   "metadata": {},
   "outputs": [],
   "source": [
    "def test(i,dict,arr):\n",
    "    ac,c,tp,tn,fp,fn=0,0,0,0,0,0\n",
    "    for j in range((i*l//5)+1,(i+1)*l//5):\n",
    "        c=0\n",
    "        li=lc.getline('a1_d3.txt',j)\n",
    "        words=li.split() \n",
    "        t0=1\n",
    "        t1=1 \n",
    "        for m in words:\n",
    "            if (m != '\\n' and m != '0' and m!='1'):\n",
    "                if m.lower() in dict[0]:\n",
    "                    t0*=(dict[0][m.lower()])/(arr[0])\n",
    "                else:\n",
    "                    t0*=(1)/(arr[0])\n",
    "                if m.lower() in dict[1]:\n",
    "                    t1*=(dict[1][m.lower()])/(arr[1])\n",
    "                else:\n",
    "                    t1*=(1)/(arr[1])\n",
    "                    \n",
    "        if(t1>=t0):\n",
    "            c=1\n",
    "        if c==1 and li[len(li)-2]=='1':\n",
    "            tp+=1\n",
    "        elif c==0 and li[len(li)-2]=='0':\n",
    "            tn+=1\n",
    "        elif c==1 and li[len(li)-2]=='0':\n",
    "            fp+=1\n",
    "        elif c==0 and li[len(li)-2]=='1':\n",
    "            fn+=1\n",
    "        if str(c)==li[len(li)-2]:\n",
    "            ac+=1\n",
    "    prec=tp/(tp+fp)\n",
    "    recall=tp/(tp+fn)\n",
    "    fscore=2*((prec*recall)/(prec+recall))\n",
    "    return ac,fscore"
   ]
  },
  {
   "cell_type": "code",
   "execution_count": 4,
   "metadata": {},
   "outputs": [
    {
     "name": "stdout",
     "output_type": "stream",
     "text": [
      "the accuracy is : 77.1 + 3.0232432915661946\n",
      "the f-score is : 0.7678995960245254 + 0.04682567413427396\n"
     ]
    }
   ],
   "source": [
    "file=open(\"a1_d3.txt\",\"r\")\n",
    "l=0\n",
    "for x in file:\n",
    "    l+=1      #for sample size\n",
    "    \n",
    "file.seek(0,0) # to get to start form last line in the above step\n",
    "acc=[]\n",
    "fsc=[]\n",
    "for i in range(0,5):\n",
    "    dict=[{},{}]\n",
    "    arr=[0,0]\n",
    "\n",
    "    dict,arr=train(i,dict,arr)\n",
    "    ac,fscore=test(i,dict,arr)\n",
    "    \n",
    "    acc.append(ac*500/l)\n",
    "    fsc.append(fscore)\n",
    "    \n",
    "print(\"the accuracy is :\" ,np.mean(acc),\"+\",math.sqrt(np.var(acc)))\n",
    "print(\"the f-score is :\",np.mean(fsc),\"+\",math.sqrt(np.var(fsc)))\n"
   ]
  }
 ],
 "metadata": {
  "kernelspec": {
   "display_name": "Python 3",
   "language": "python",
   "name": "python3"
  },
  "language_info": {
   "codemirror_mode": {
    "name": "ipython",
    "version": 3
   },
   "file_extension": ".py",
   "mimetype": "text/x-python",
   "name": "python",
   "nbconvert_exporter": "python",
   "pygments_lexer": "ipython3",
   "version": "3.7.6"
  }
 },
 "nbformat": 4,
 "nbformat_minor": 4
}
