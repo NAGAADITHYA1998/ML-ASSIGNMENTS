{
 "cells": [
  {
   "cell_type": "code",
   "execution_count": 1,
   "metadata": {},
   "outputs": [],
   "source": [
    "import random\n",
    "import pandas as pd\n",
    "import numpy as np\n",
    "import matplotlib.pyplot as plt"
   ]
  },
  {
   "cell_type": "code",
   "execution_count": 2,
   "metadata": {},
   "outputs": [],
   "source": [
    "def sigmoid(z):\n",
    "    # sigmoid function for logestic regression\n",
    "    return 1.0/(1.0+np.exp(-z))"
   ]
  },
  {
   "cell_type": "code",
   "execution_count": 3,
   "metadata": {},
   "outputs": [],
   "source": [
    "def quality(w,b,data):\n",
    "    #for testing data\n",
    "    # given inputs are discriminating value,projection line vector,test data  \n",
    "    #data=data.reset_index()\n",
    "    Aclass=data[\"f\"].tolist()                                                       #actual class data for final verification\n",
    "    x=(data.drop(columns=['f']))                                      #data manuplation for logestic regression\n",
    "                              \n",
    "    aftestdata=sigmoid(np.dot(w,x.T)+b)                      # data after prediction\n",
    "    a=[0 if x<0.5 else 1 for x in aftestdata]           #our classification into fake or not fake bank notes\n",
    "    cor,tp,fp,fn,tn=0,0,0,0,0                                        # manging count of correct classifications\n",
    "    \n",
    "    for i in range(len(a)):\n",
    "        if Aclass[i]==a[i]:\n",
    "            cor=cor+1\n",
    "        if Aclass[i]==1 and a[i]==1:\n",
    "            tp=tp+1\n",
    "        elif Aclass[i]==0 and a[i]==1:\n",
    "            fp=fp+1\n",
    "        elif Aclass[i]==1 and a[i]==0:\n",
    "            fn=fn+1\n",
    "        elif Aclass[i]==0 and a[i]==0:\n",
    "            tn=tn+1\n",
    "    \n",
    "    \n",
    "    if tp==0 :\n",
    "        fscore=0\n",
    "    else:\n",
    "        prec=tp/(tp+fp)\n",
    "        recall=tp/(tp+fn)\n",
    "        fscore=2*((prec*recall)/(prec+recall))\n",
    "    \n",
    "    return (cor/len(a))*100,fscore                                  # returning %  of data classified correct and f score "
   ]
  },
  {
   "cell_type": "code",
   "execution_count": 4,
   "metadata": {},
   "outputs": [],
   "source": [
    "def logreg(w,b,train,epoch,eta,lam):\n",
    "    #logestic regression with regularistion  l2 regularization\n",
    "    y=train['f']\n",
    "    x=train.drop(columns=['f'])\n",
    "    \n",
    "    m=len(y)\n",
    "    old_cost=4             # is set to four  because maximum diifernce in cost is 2\n",
    "    err=[]\n",
    "    for i in range(epoch):\n",
    "        \n",
    "        ypred=sigmoid(np.dot(w,x.T)+b)\n",
    "        \n",
    "        \n",
    "        cost=(sum(((y*np.log(ypred))+((1-y)*np.log((1-ypred))))))*(-1/m)+np.sum((lam/(2*m))*(np.dot(w,w.T)))\n",
    "        \n",
    "        if cost>old_cost:\n",
    "            eta=eta/1.5\n",
    "            \n",
    "        w_grad=(1/m)*(np.dot((ypred-y),x))\n",
    "        b_grad=(1/m)*(sum((ypred-y)))\n",
    "   \n",
    "        old_cost=cost\n",
    "    \n",
    "        w=(1-(eta*lam/m))*w-(eta*w_grad)\n",
    "        b=b-(eta*b_grad)\n",
    "        if i%10==0:\n",
    "            err.append(cost)\n",
    "    y=err\n",
    "    x=[i*10 for i in range(len(err))]\n",
    "    plt.plot(x,y)\n",
    "    plt.xlabel(\"iterations\",size=12)\n",
    "    plt.ylabel(\"error\",size=12)\n",
    "    plt.show()\n",
    "    print(cost)     \n",
    "    return w,b"
   ]
  },
  {
   "cell_type": "code",
   "execution_count": 5,
   "metadata": {},
   "outputs": [],
   "source": [
    "data=pd.read_csv(\"money.csv\")\n",
    "\n",
    "data=(data-data.min())/(data.max()-data.min()) #scaling of data to a range of 0-1 (normalization) \n",
    "\n",
    "#random state is a seed value.for a particular seed value gives same distribution always\n",
    "train=data.sample(frac=0.8,random_state=200) \n",
    "test=data.drop(train.index) \n",
    "#print(train)\n",
    "#print(test)"
   ]
  },
  {
   "cell_type": "code",
   "execution_count": 6,
   "metadata": {},
   "outputs": [],
   "source": [
    "eta=100\n",
    "epoch=3000\n",
    "lam=0.125\n",
    "w=np.array([1,2,3,4])\n",
    "#w=np.random.random(4)\n",
    "#w=np.random.randn(4)\n",
    "b=1"
   ]
  },
  {
   "cell_type": "code",
   "execution_count": 7,
   "metadata": {},
   "outputs": [
    {
     "data": {
      "image/png": "[encoded data removed]",
      "text/plain": [
       "<Figure size 432x288 with 1 Axes>"
      ]
     },
     "metadata": {
      "needs_background": "light"
     },
     "output_type": "display_data"
    },
    {
     "name": "stdout",
     "output_type": "stream",
     "text": [
      "0.11875088063866082\n",
      "[-17.9791106  -15.56075689 -16.48076287   0.87508762] 22.045764914586204\n"
     ]
    }
   ],
   "source": [
    "\n",
    "w,b=logreg(w,b,train,epoch,eta,lam)\n",
    "    \n",
    "print(w,b)"
   ]
  },
  {
   "cell_type": "code",
   "execution_count": 8,
   "metadata": {},
   "outputs": [
    {
     "name": "stdout",
     "output_type": "stream",
     "text": [
      "test set\n",
      "97.8102189781022 0.9752066115702478\n",
      "train set\n",
      "98.08743169398907 0.978978978978979\n",
      "0.27721271588687557\n"
     ]
    }
   ],
   "source": [
    "acctest,fsc=quality(w,b,test)\n",
    "print(\"test set\")\n",
    "print(acctest,fsc)\n",
    "print(\"train set\")\n",
    "acctrain,fsc=quality(w,b,train)\n",
    "print(acctrain,fsc)\n",
    "print(np.abs(acctrain-acctest))"
   ]
  },
  {
   "cell_type": "code",
   "execution_count": 9,
   "metadata": {},
   "outputs": [],
   "source": [
    "#test set\n",
    "#97.8102189781022 0.9752066115702478\n",
    "#train set\n",
    "#98.63387978142076 0.984894259818731\n",
    "#0.8236608033185604\n",
    "\n",
    "#lam=1\n",
    "#test set\n",
    "#95.98540145985402 0.9543568464730291\n",
    "#train set\n",
    "#96.90346083788707 0.96579476861167\n",
    "#0.9180593780330497\n",
    "\n",
    "#lam=0.5\n",
    "#test set\n",
    "#96.71532846715328 0.9629629629629629\n",
    "#train set\n",
    "#97.44990892531877 0.9719438877755511\n",
    "#0.7345804581654818\n",
    "\n",
    "#lam=0.25\n",
    "#test set\n",
    "#97.44525547445255 0.97119341563786\n",
    "#train set\n",
    "#97.72313296903461 0.974974974974975\n",
    "#0.27787749458205724\n",
    "\n",
    "#lam=0.125\n",
    "#test set\n",
    "#97.8102189781022 0.9752066115702478\n",
    "#train set\n",
    "#98.08743169398907 0.978978978978979\n",
    "#0.27721271588687557\n",
    "\n",
    "#lam=0.0625\n",
    "#test set\n",
    "#97.8102189781022 0.9752066115702478\n",
    "#train set\n",
    "#98.1785063752277 0.9799599198396793\n",
    "#0.3682873971254992"
   ]
  }
 ],
 "metadata": {
  "kernelspec": {
   "display_name": "Python 3",
   "language": "python",
   "name": "python3"
  },
  "language_info": {
   "codemirror_mode": {
    "name": "ipython",
    "version": 3
   },
   "file_extension": ".py",
   "mimetype": "text/x-python",
   "name": "python",
   "nbconvert_exporter": "python",
   "pygments_lexer": "ipython3",
   "version": "3.7.6"
  }
 },
 "nbformat": 4,
 "nbformat_minor": 4
}
