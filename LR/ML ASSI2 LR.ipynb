{
 "cells": [
  {
   "cell_type": "code",
   "execution_count": 1,
   "metadata": {},
   "outputs": [],
   "source": [
    "import random\n",
    "import pandas as pd\n",
    "import numpy as np\n",
    "import matplotlib.pyplot as plt"
   ]
  },
  {
   "cell_type": "code",
   "execution_count": 2,
   "metadata": {},
   "outputs": [],
   "source": [
    "def sigmoid(z):\n",
    "    # sigmoid function for logestic regression\n",
    "    return 1.0/(1.0+np.exp(-z))"
   ]
  },
  {
   "cell_type": "code",
   "execution_count": 3,
   "metadata": {},
   "outputs": [],
   "source": [
    "def quality(w,b,data):\n",
    "    #for testing data\n",
    "    # given inputs are discriminating value,projection line vector,test data  \n",
    "    #data=data.reset_index()\n",
    "    Aclass=data[\"f\"].tolist()                                                       #actual class data for final verification\n",
    "    x=(data.drop(columns=['f']))                                      #data manuplation for logestic regression\n",
    "                              \n",
    "    aftestdata=sigmoid(np.dot(w,x.T)+b)                      # data after prediction\n",
    "    a=[0 if x<0.5 else 1 for x in aftestdata]           #our classification into fake or not fake bank notes\n",
    "    cor,tp,fp,fn,tn=0,0,0,0,0                                        # manging count of correct classifications\n",
    "    \n",
    "    for i in range(len(a)):\n",
    "        if Aclass[i]==a[i]:\n",
    "            cor=cor+1\n",
    "        if Aclass[i]==1 and a[i]==1:\n",
    "            tp=tp+1\n",
    "        elif Aclass[i]==0 and a[i]==1:\n",
    "            fp=fp+1\n",
    "        elif Aclass[i]==1 and a[i]==0:\n",
    "            fn=fn+1\n",
    "        elif Aclass[i]==0 and a[i]==0:\n",
    "            tn=tn+1\n",
    "    \n",
    "    \n",
    "    if tp==0 :\n",
    "        fscore=0\n",
    "    else:\n",
    "        prec=tp/(tp+fp)\n",
    "        recall=tp/(tp+fn)\n",
    "        fscore=2*((prec*recall)/(prec+recall))\n",
    "    \n",
    "    return (cor/len(a))*100,fscore                                  # returning %  of data classified correct and f score "
   ]
  },
  {
   "cell_type": "code",
   "execution_count": 4,
   "metadata": {},
   "outputs": [],
   "source": [
    "def logreg(w,b,train,epoch,eta):\n",
    "    #logestic regression without regularistion\n",
    "    y=train['f']\n",
    "    x=train.drop(columns=['f'])\n",
    "    \n",
    "    m=len(y)\n",
    "    old_cost=4             # is set to four  because maximum diifernce in cost is 2\n",
    "    err=[]\n",
    "    for i in range(epoch):\n",
    "        \n",
    "        ypred=sigmoid(np.dot(w,x.T)+b)\n",
    "        \n",
    "        \n",
    "        cost=(sum(((y*np.log(ypred))+((1-y)*np.log((1-ypred))))))*(-1/m)\n",
    "        \n",
    "        if cost>old_cost:\n",
    "            eta=eta/1.5\n",
    "            \n",
    "        w_grad=(1/m)*(np.dot((ypred-y),x))\n",
    "        b_grad=(1/m)*(sum((ypred-y)))\n",
    "   \n",
    "        old_cost=cost\n",
    "    \n",
    "        w=w-(eta*w_grad)\n",
    "        b=b-(eta*b_grad)\n",
    "        if i%10==0:\n",
    "            err.append(cost)\n",
    "    y=err\n",
    "    x=[i*10 for i in range(len(err))]\n",
    "    plt.plot(x,y)\n",
    "    plt.xlabel(\"iterations\",size=12)\n",
    "    plt.ylabel(\"error\",size=12)\n",
    "    plt.show()  \n",
    "    print(cost)\n",
    "    return w,b"
   ]
  },
  {
   "cell_type": "code",
   "execution_count": 5,
   "metadata": {},
   "outputs": [],
   "source": [
    "data=pd.read_csv(\"money.csv\")\n",
    "\n",
    "data=(data-data.min())/(data.max()-data.min()) #scaling of data to a range of 0-1 (normalization) \n",
    "\n",
    "#random state is a seed value.for a particular seed value gives same distribution always\n",
    "train=data.sample(frac=0.8,random_state=200) \n",
    "test=data.drop(train.index) \n",
    "#print(train)\n",
    "#print(test)"
   ]
  },
  {
   "cell_type": "code",
   "execution_count": 6,
   "metadata": {},
   "outputs": [],
   "source": [
    "eta=100\n",
    "epoch=3000\n",
    "w=np.array([1,2,3,4])\n",
    "#w=np.random.random(4)\n",
    "#w=np.random.randn(4)\n",
    "b=1"
   ]
  },
  {
   "cell_type": "code",
   "execution_count": 7,
   "metadata": {
    "scrolled": false
   },
   "outputs": [
    {
     "data": {
      "image/png": "[encoded data removed]",
      "text/plain": [
       "<Figure size 432x288 with 1 Axes>"
      ]
     },
     "metadata": {
      "needs_background": "light"
     },
     "output_type": "display_data"
    },
    {
     "name": "stdout",
     "output_type": "stream",
     "text": [
      "0.03401931941911702\n",
      "[-31.45347132 -30.15514933 -32.73909891   1.36191249] 40.76843884066982\n"
     ]
    }
   ],
   "source": [
    "\n",
    "w,b=logreg(w,b,train,epoch,eta)\n",
    "    \n",
    "print(w,b)"
   ]
  },
  {
   "cell_type": "code",
   "execution_count": 8,
   "metadata": {
    "scrolled": true
   },
   "outputs": [
    {
     "name": "stdout",
     "output_type": "stream",
     "text": [
      "97.8102189781022 0.9752066115702478\n"
     ]
    }
   ],
   "source": [
    "acc,fsc=quality(w,b,test)\n",
    "print(acc,fsc)"
   ]
  },
  {
   "cell_type": "code",
   "execution_count": 9,
   "metadata": {},
   "outputs": [],
   "source": [
    "#[0.0025116250011651183, 0.0024030383924067084, 0.0007485528578388942, 0.0021384347347258373] 1.0031658631950182\n",
    "#[1.0041019754148546, 2.004129491731636, 3.0016063126691894, 4.004122073846572] 1.0061200349026265\n",
    "#[1.4103012550369893, 2.413101093399932, 3.1606769058910555, 4.412314198247626] 1.6122252300398145\n",
    "#[-22.523769648129207, -19.19422134153271, -21.375068344633373, 2.099529088831093] 26.858836187616014\n",
    "#[-42.17957590714859, -41.74152792351742, -45.15427534135392, 0.49428432348228296] 56.1949064193798\n",
    "#98.90510948905109 0.9874476987447698 #10000 epochs\n",
    "\n",
    "#[-78.89244150767122, -78.28378164924807, -85.57670966274415, -2.7223050800518154] 107.23712091947378\n",
    "#98.90510948905109 0.9873417721518987 #10000000 epochs\n",
    "\n",
    "#[-31.45347132496906, -30.15514933437314, -32.739098910447865, 1.3619124919260344] 40.76843884066986\n",
    "#97.8102189781022 0.9752066115702478 # 3000 epochs\n"
   ]
  }
 ],
 "metadata": {
  "kernelspec": {
   "display_name": "Python 3",
   "language": "python",
   "name": "python3"
  },
  "language_info": {
   "codemirror_mode": {
    "name": "ipython",
    "version": 3
   },
   "file_extension": ".py",
   "mimetype": "text/x-python",
   "name": "python",
   "nbconvert_exporter": "python",
   "pygments_lexer": "ipython3",
   "version": "3.7.6"
  }
 },
 "nbformat": 4,
 "nbformat_minor": 4
}
