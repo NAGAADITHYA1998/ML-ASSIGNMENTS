{
 "cells": [
  {
   "cell_type": "code",
   "execution_count": 1,
   "metadata": {},
   "outputs": [],
   "source": [
    "import numpy as np\n",
    "import pandas as pd\n",
    "import matplotlib.pyplot as plt"
   ]
  },
  {
   "cell_type": "code",
   "execution_count": 2,
   "metadata": {},
   "outputs": [],
   "source": [
    "def sigmoid(x):\n",
    "    return 1/(1+np.exp(-x))"
   ]
  },
  {
   "cell_type": "code",
   "execution_count": 3,
   "metadata": {},
   "outputs": [],
   "source": [
    "def quality(parameters,data):\n",
    "    Y=data[\"AboveMedianPrice\"]\n",
    "    Y=Y.values.reshape(-1,1)\n",
    "    Y=Y.T\n",
    "    X=data.drop(columns=\"AboveMedianPrice\")\n",
    "    X=X.T\n",
    "    pred,c=forward_propagation(X, parameters)\n",
    "    Aclass=Y\n",
    "    a=[0 if x<0.5 else 1 for y in pred for x in y]\n",
    "    \n",
    "    \n",
    "    cor,tp,fp,fn,tn=0,0,0,0,0                                        # manging count of correct classifications\n",
    "    \n",
    "    for i in range(len(a)):\n",
    "        if Aclass[0][i]==a[i]:\n",
    "            cor=cor+1\n",
    "        if Aclass[0][i]==1 and a[i]==1:\n",
    "            tp=tp+1\n",
    "        elif Aclass[0][i]==0 and a[i]==1:\n",
    "            fp=fp+1\n",
    "        elif Aclass[0][i]==1 and a[i]==0:\n",
    "            fn=fn+1\n",
    "        elif Aclass[0][i]==0 and a[i]==0:\n",
    "            tn=tn+1\n",
    "    \n",
    "    \n",
    "    if tp==0 :\n",
    "        fscore=0\n",
    "    else:\n",
    "        prec=tp/(tp+fp)\n",
    "        recall=tp/(tp+fn)\n",
    "        fscore=2*((prec*recall)/(prec+recall))\n",
    "    \n",
    "    return (cor/len(a))*100,fscore                                  # returning %  of data classified correct and f score "
   ]
  },
  {
   "cell_type": "code",
   "execution_count": 4,
   "metadata": {},
   "outputs": [],
   "source": [
    "def layer_sizes(X, Y):\n",
    "    \n",
    "    n_x = X.shape[0]\n",
    "    n_h = 8 \n",
    "    n_y = Y.shape[0] \n",
    "\n",
    "    return (n_x, n_h, n_y)"
   ]
  },
  {
   "cell_type": "code",
   "execution_count": 5,
   "metadata": {},
   "outputs": [],
   "source": [
    "def initialize_parameters(n_x, n_h, n_y):\n",
    "\n",
    "    np.random.seed(2) \n",
    "    W1 = np.random.randn(n_h,n_x)\n",
    "    b1 = np.zeros((n_h,1))\n",
    "    W2 = np.random.randn(n_y,n_h)\n",
    "    b2 = np.zeros((n_y,1))\n",
    "    \n",
    "    parameters = {\"W1\": W1,\n",
    "                  \"b1\": b1,\n",
    "                  \"W2\": W2,\n",
    "                  \"b2\": b2}\n",
    "    \n",
    "    return parameters"
   ]
  },
  {
   "cell_type": "code",
   "execution_count": 6,
   "metadata": {},
   "outputs": [],
   "source": [
    "def forward_propagation(X, parameters):\n",
    "    W1 = parameters[\"W1\"]\n",
    "    b1 = parameters[\"b1\"]\n",
    "    W2 = parameters[\"W2\"]\n",
    "    b2 = parameters[\"b2\"]\n",
    "\n",
    "    Z1 = np.dot(W1,X)+b1\n",
    "    A1 = np.tanh(Z1)\n",
    "    Z2 = np.dot(W2,A1)+b2\n",
    "    A2 = sigmoid(Z2)\n",
    "    \n",
    "    cache = {\"Z1\": Z1,\n",
    "             \"A1\": A1,\n",
    "             \"Z2\": Z2,\n",
    "             \"A2\": A2}\n",
    "    \n",
    "    return A2, cache"
   ]
  },
  {
   "cell_type": "code",
   "execution_count": 7,
   "metadata": {},
   "outputs": [],
   "source": [
    "def compute_cost(A2, Y, parameters):\n",
    "\n",
    "    \n",
    "    m = Y.shape[1] \n",
    "\n",
    "    logprobs = np.multiply(np.log(A2),Y)+np.multiply(np.log(1-A2),1-Y)\n",
    "    cost =  (-1/m)* np.sum(logprobs)\n",
    "    \n",
    "    cost = float(np.squeeze(cost))   \n",
    "                                \n",
    "    \n",
    "    return cost"
   ]
  },
  {
   "cell_type": "code",
   "execution_count": 8,
   "metadata": {},
   "outputs": [],
   "source": [
    "def backward_propagation(parameters, cache, X, Y):\n",
    "    m = X.shape[1]\n",
    "    \n",
    "    W1 =  parameters[\"W1\"]\n",
    "    W2 =  parameters[\"W2\"]\n",
    "    \n",
    "    A1 = cache['A1']\n",
    "    A2 = cache['A2']\n",
    "\n",
    "    dZ2 = A2-Y\n",
    "    dW2 = np.dot(dZ2,A1.T)*(1/m)\n",
    "    db2 = np.sum(dZ2,axis=1,keepdims=True)*(1/m)\n",
    "    dZ1 = np.dot(W2.T,dZ2)*(1-np.power(A1, 2))\n",
    "    dW1 = np.dot(dZ1,X.T)*(1/m)\n",
    "    db1 = np.sum(dZ1,axis=1,keepdims=True)*(1/m)\n",
    "    \n",
    "    grads = {\"dW1\": dW1,\n",
    "             \"db1\": db1,\n",
    "             \"dW2\": dW2,\n",
    "             \"db2\": db2}\n",
    "    \n",
    "    return grads"
   ]
  },
  {
   "cell_type": "code",
   "execution_count": 9,
   "metadata": {},
   "outputs": [],
   "source": [
    "def update_parameters(parameters, grads, learning_rate):\n",
    "    W1 = parameters[\"W1\"]\n",
    "    b1 = parameters[\"b1\"]\n",
    "    W2 = parameters[\"W2\"]\n",
    "    b2 = parameters[\"b2\"]\n",
    "    \n",
    "    dW1 = grads['dW1']\n",
    "    db1 = grads['db1']\n",
    "    dW2 = grads['dW2']\n",
    "    db2 = grads['db2']\n",
    "    \n",
    "    W1 = W1-learning_rate*dW1\n",
    "    b1 = b1-learning_rate*db1\n",
    "    W2 = W2-learning_rate*dW2\n",
    "    b2 = b2-learning_rate*db2\n",
    "    \n",
    "    parameters = {\"W1\": W1,\n",
    "                  \"b1\": b1,\n",
    "                  \"W2\": W2,\n",
    "                  \"b2\": b2}\n",
    "    \n",
    "    return parameters"
   ]
  },
  {
   "cell_type": "code",
   "execution_count": 10,
   "metadata": {},
   "outputs": [],
   "source": [
    "def nn_model(X, Y, n_h, num_iterations,eta):\n",
    "    \n",
    "    n_x = layer_sizes(X, Y)[0]\n",
    "    n_y = layer_sizes(X, Y)[2]\n",
    "    \n",
    "    parameters = initialize_parameters(n_x, n_h, n_y)\n",
    "    \n",
    "    # Loop (gradient descent)\n",
    "    err=[]\n",
    "\n",
    "    for i in range(0, num_iterations):\n",
    "         \n",
    "        A2, cache =  forward_propagation(X, parameters)\n",
    "        cost = compute_cost(A2, Y, parameters)\n",
    "        grads = backward_propagation(parameters, cache, X, Y)\n",
    "        parameters = update_parameters(parameters, grads,eta)\n",
    "        if i%10==0:\n",
    "            err.append(cost)\n",
    "    y=[i for  i in range(len(err))]\n",
    "    x=err\n",
    "    plt.plot(y,x)\n",
    "    plt.xlabel('iter / 10')\n",
    "    plt.ylabel('error')\n",
    "    plt.show()\n",
    "        \n",
    "\n",
    "    return parameters"
   ]
  },
  {
   "cell_type": "code",
   "execution_count": 11,
   "metadata": {},
   "outputs": [
    {
     "data": {
      "image/png": "[encoded data removed]",
      "text/plain": [
       "<Figure size 432x288 with 1 Axes>"
      ]
     },
     "metadata": {
      "needs_background": "light"
     },
     "output_type": "display_data"
    }
   ],
   "source": [
    "data=pd.read_csv(\"housepricedata.csv\")\n",
    "data=(data-data.min())/(data.max()-data.min())\n",
    "\n",
    "train=data.sample(frac=0.8,random_state=200) \n",
    "test=data.drop(train.index) \n",
    "\n",
    "X=train.drop(columns=\"AboveMedianPrice\")\n",
    "X=X.T\n",
    "\n",
    "Y=train[\"AboveMedianPrice\"]\n",
    "Y=Y.values.reshape(-1,1)\n",
    "Y=Y.T\n",
    "\n",
    "results=nn_model(X, Y, 7,40000,5)\n",
    "#print(results)"
   ]
  },
  {
   "cell_type": "code",
   "execution_count": 12,
   "metadata": {
    "scrolled": true
   },
   "outputs": [
    {
     "name": "stdout",
     "output_type": "stream",
     "text": [
      "test  90.06849315068493 0.9102167182662538\n",
      "train 93.23630136986301 0.9317199654278306\n"
     ]
    }
   ],
   "source": [
    "acctest,fsc=quality(results,test)\n",
    "print(\"test \",acctest,fsc)\n",
    "acctrain,fsc=quality(results,train)\n",
    "print(\"train\",acctrain,fsc)\n"
   ]
  },
  {
   "cell_type": "code",
   "execution_count": 13,
   "metadata": {},
   "outputs": [],
   "source": [
    "#(55.13698630136986, 0.7108167770419427) 7,10,0.1\n",
    "#(53.42465753424658, 0.6792452830188679) 7,20,0.1\n",
    "#(55.13698630136986, 0.7108167770419427) 7, 90,0.01\n",
    "#(89.72602739726028, 0.906832298136646)  7,1000,0.1  and scaling of data from 0-1 for every coloumn\n",
    "#(80.47945205479452, 0.8277945619335348) 7,100,0.01  and scaling of data from 0-1 for every coloumn\n",
    "#(71.57534246575342, 0.7738419618528611) 7,10,0.1    and scaling of data from 0-1 for every coloumn\n",
    "#(89.04109589041096, 0.9012345679012346) 10,1000,0.1 and scaling of data from 0-1 for every coloumn\n",
    "#(90.06849315068493, 0.9123867069486403) 7,1000,1   and scaling\n",
    "#(90.41095890410958, 0.9156626506024096) 7,1000,2   and scaling\n",
    "#(90.75342465753424, 0.9184290030211482) 7,1000,3   and scaling"
   ]
  }
 ],
 "metadata": {
  "kernelspec": {
   "display_name": "Python 3",
   "language": "python",
   "name": "python3"
  },
  "language_info": {
   "codemirror_mode": {
    "name": "ipython",
    "version": 3
   },
   "file_extension": ".py",
   "mimetype": "text/x-python",
   "name": "python",
   "nbconvert_exporter": "python",
   "pygments_lexer": "ipython3",
   "version": "3.7.6"
  }
 },
 "nbformat": 4,
 "nbformat_minor": 4
}
